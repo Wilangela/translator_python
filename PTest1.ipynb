{
 "cells": [
  {
   "cell_type": "code",
   "execution_count": 1,
   "id": "145e60f7-76ef-4a53-ac56-74b27902f119",
   "metadata": {},
   "outputs": [
    {
     "name": "stdout",
     "output_type": "stream",
     "text": [
      "showing info https://raw.githubusercontent.com/nltk/nltk_data/gh-pages/index.xml\n"
     ]
    }
   ],
   "source": [
    "import nltk\n",
    "nltk.download()\n",
    "import pandas as pd\n",
    "import numpy as np"
   ]
  },
  {
   "cell_type": "code",
   "execution_count": 2,
   "id": "60308240-465c-4ee6-abfe-3760fd0f77eb",
   "metadata": {},
   "outputs": [],
   "source": [
    "df=pd.read_csv(\"Pt.csv\")"
   ]
  },
  {
   "cell_type": "code",
   "execution_count": 9,
   "id": "6570660d-99b9-4a34-9ba3-f07443aa61c7",
   "metadata": {},
   "outputs": [
    {
     "data": {
      "text/html": [
       "<div>\n",
       "<style scoped>\n",
       "    .dataframe tbody tr th:only-of-type {\n",
       "        vertical-align: middle;\n",
       "    }\n",
       "\n",
       "    .dataframe tbody tr th {\n",
       "        vertical-align: top;\n",
       "    }\n",
       "\n",
       "    .dataframe thead th {\n",
       "        text-align: right;\n",
       "    }\n",
       "</style>\n",
       "<table border=\"1\" class=\"dataframe\">\n",
       "  <thead>\n",
       "    <tr style=\"text-align: right;\">\n",
       "      <th></th>\n",
       "      <th>English</th>\n",
       "      <th>Portuguese</th>\n",
       "    </tr>\n",
       "  </thead>\n",
       "  <tbody>\n",
       "    <tr>\n",
       "      <th>0</th>\n",
       "      <td>Go.</td>\n",
       "      <td>Vai.</td>\n",
       "    </tr>\n",
       "    <tr>\n",
       "      <th>1</th>\n",
       "      <td>Go.</td>\n",
       "      <td>Vá.</td>\n",
       "    </tr>\n",
       "    <tr>\n",
       "      <th>2</th>\n",
       "      <td>Hi.</td>\n",
       "      <td>Oi.</td>\n",
       "    </tr>\n",
       "    <tr>\n",
       "      <th>3</th>\n",
       "      <td>Run!</td>\n",
       "      <td>Corre!</td>\n",
       "    </tr>\n",
       "    <tr>\n",
       "      <th>4</th>\n",
       "      <td>Run!</td>\n",
       "      <td>Corra!</td>\n",
       "    </tr>\n",
       "  </tbody>\n",
       "</table>\n",
       "</div>"
      ],
      "text/plain": [
       "  English Portuguese\n",
       "0     Go.       Vai.\n",
       "1     Go.        Vá.\n",
       "2     Hi.        Oi.\n",
       "3    Run!     Corre!\n",
       "4    Run!     Corra!"
      ]
     },
     "execution_count": 9,
     "metadata": {},
     "output_type": "execute_result"
    }
   ],
   "source": [
    "df.head()"
   ]
  },
  {
   "cell_type": "code",
   "execution_count": 11,
   "id": "47894197-7016-4bfa-8d61-3ce72b9800ac",
   "metadata": {},
   "outputs": [
    {
     "data": {
      "text/plain": [
       "(168903, 2)"
      ]
     },
     "execution_count": 11,
     "metadata": {},
     "output_type": "execute_result"
    }
   ],
   "source": [
    "df.shape"
   ]
  },
  {
   "cell_type": "code",
   "execution_count": 13,
   "id": "48b5c814-9106-47a3-8527-a3378fa8192e",
   "metadata": {},
   "outputs": [
    {
     "name": "stdout",
     "output_type": "stream",
     "text": [
      "<class 'pandas.core.frame.DataFrame'>\n",
      "RangeIndex: 168903 entries, 0 to 168902\n",
      "Data columns (total 2 columns):\n",
      " #   Column      Non-Null Count   Dtype \n",
      "---  ------      --------------   ----- \n",
      " 0   English     168903 non-null  object\n",
      " 1   Portuguese  168903 non-null  object\n",
      "dtypes: object(2)\n",
      "memory usage: 2.6+ MB\n"
     ]
    }
   ],
   "source": [
    "df.info()"
   ]
  },
  {
   "cell_type": "code",
   "execution_count": 15,
   "id": "a4c97c9f-5b47-4534-b6a5-dc9ed8c6898e",
   "metadata": {},
   "outputs": [
    {
     "data": {
      "text/plain": [
       "English       0\n",
       "Portuguese    0\n",
       "dtype: int64"
      ]
     },
     "execution_count": 15,
     "metadata": {},
     "output_type": "execute_result"
    }
   ],
   "source": [
    "df.isnull().sum()"
   ]
  },
  {
   "cell_type": "code",
   "execution_count": 17,
   "id": "c1adf57d-f4f3-4d04-b313-340d7fad1ede",
   "metadata": {},
   "outputs": [
    {
     "data": {
      "text/html": [
       "<div>\n",
       "<style scoped>\n",
       "    .dataframe tbody tr th:only-of-type {\n",
       "        vertical-align: middle;\n",
       "    }\n",
       "\n",
       "    .dataframe tbody tr th {\n",
       "        vertical-align: top;\n",
       "    }\n",
       "\n",
       "    .dataframe thead th {\n",
       "        text-align: right;\n",
       "    }\n",
       "</style>\n",
       "<table border=\"1\" class=\"dataframe\">\n",
       "  <thead>\n",
       "    <tr style=\"text-align: right;\">\n",
       "      <th></th>\n",
       "      <th>English</th>\n",
       "      <th>Portuguese</th>\n",
       "    </tr>\n",
       "  </thead>\n",
       "  <tbody>\n",
       "    <tr>\n",
       "      <th>0</th>\n",
       "      <td>Go.</td>\n",
       "      <td>Vai.</td>\n",
       "    </tr>\n",
       "    <tr>\n",
       "      <th>1</th>\n",
       "      <td>Go.</td>\n",
       "      <td>Vá.</td>\n",
       "    </tr>\n",
       "    <tr>\n",
       "      <th>2</th>\n",
       "      <td>Hi.</td>\n",
       "      <td>Oi.</td>\n",
       "    </tr>\n",
       "    <tr>\n",
       "      <th>3</th>\n",
       "      <td>Run!</td>\n",
       "      <td>Corre!</td>\n",
       "    </tr>\n",
       "    <tr>\n",
       "      <th>4</th>\n",
       "      <td>Run!</td>\n",
       "      <td>Corra!</td>\n",
       "    </tr>\n",
       "  </tbody>\n",
       "</table>\n",
       "</div>"
      ],
      "text/plain": [
       "  English Portuguese\n",
       "0     Go.       Vai.\n",
       "1     Go.        Vá.\n",
       "2     Hi.        Oi.\n",
       "3    Run!     Corre!\n",
       "4    Run!     Corra!"
      ]
     },
     "execution_count": 17,
     "metadata": {},
     "output_type": "execute_result"
    }
   ],
   "source": [
    "df.head(5)"
   ]
  },
  {
   "cell_type": "code",
   "execution_count": 19,
   "id": "59947c3f-ae4e-4387-8809-ec31a54f26ee",
   "metadata": {},
   "outputs": [
    {
     "data": {
      "text/html": [
       "<div>\n",
       "<style scoped>\n",
       "    .dataframe tbody tr th:only-of-type {\n",
       "        vertical-align: middle;\n",
       "    }\n",
       "\n",
       "    .dataframe tbody tr th {\n",
       "        vertical-align: top;\n",
       "    }\n",
       "\n",
       "    .dataframe thead th {\n",
       "        text-align: right;\n",
       "    }\n",
       "</style>\n",
       "<table border=\"1\" class=\"dataframe\">\n",
       "  <thead>\n",
       "    <tr style=\"text-align: right;\">\n",
       "      <th></th>\n",
       "      <th>English</th>\n",
       "      <th>Portuguese</th>\n",
       "    </tr>\n",
       "  </thead>\n",
       "  <tbody>\n",
       "    <tr>\n",
       "      <th>168899</th>\n",
       "      <td>A building with high ceilings and huge rooms m...</td>\n",
       "      <td>Um edifício de tetos altos e salas enormes pod...</td>\n",
       "    </tr>\n",
       "    <tr>\n",
       "      <th>168900</th>\n",
       "      <td>No matter how much you try to convince people ...</td>\n",
       "      <td>Não importa o quanto você tenta convencer os o...</td>\n",
       "    </tr>\n",
       "    <tr>\n",
       "      <th>168901</th>\n",
       "      <td>Some movies make such an impact that one never...</td>\n",
       "      <td>Alguns filmes são tão marcantes que jamais nos...</td>\n",
       "    </tr>\n",
       "    <tr>\n",
       "      <th>168902</th>\n",
       "      <td>A child who is a native speaker usually knows ...</td>\n",
       "      <td>Uma criança que é falante nativa geralmente sa...</td>\n",
       "    </tr>\n",
       "  </tbody>\n",
       "</table>\n",
       "</div>"
      ],
      "text/plain": [
       "                                                  English  \\\n",
       "168899  A building with high ceilings and huge rooms m...   \n",
       "168900  No matter how much you try to convince people ...   \n",
       "168901  Some movies make such an impact that one never...   \n",
       "168902  A child who is a native speaker usually knows ...   \n",
       "\n",
       "                                               Portuguese  \n",
       "168899  Um edifício de tetos altos e salas enormes pod...  \n",
       "168900  Não importa o quanto você tenta convencer os o...  \n",
       "168901  Alguns filmes são tão marcantes que jamais nos...  \n",
       "168902  Uma criança que é falante nativa geralmente sa...  "
      ]
     },
     "execution_count": 19,
     "metadata": {},
     "output_type": "execute_result"
    }
   ],
   "source": [
    "df.tail(4)"
   ]
  },
  {
   "cell_type": "code",
   "execution_count": 21,
   "id": "16c4938a-cd52-4c41-9b1f-7a0cd5107af5",
   "metadata": {},
   "outputs": [],
   "source": [
    "from nltk.corpus import names"
   ]
  },
  {
   "cell_type": "code",
   "execution_count": 23,
   "id": "b2de7374-af0d-4c0c-af67-8caaed5df675",
   "metadata": {},
   "outputs": [
    {
     "name": "stdout",
     "output_type": "stream",
     "text": [
      "['Hello', ',', 'How', 'are', 'you', '?']\n"
     ]
    }
   ],
   "source": [
    "from nltk.tokenize import word_tokenize\n",
    "sent = '''Hello, How are you?'''\n",
    "print(word_tokenize(sent))"
   ]
  },
  {
   "cell_type": "code",
   "execution_count": 25,
   "id": "d4a9be46-2753-483d-bb7b-52ed479808c6",
   "metadata": {},
   "outputs": [
    {
     "name": "stdout",
     "output_type": "stream",
     "text": [
      "['Ola', ',', 'Como', 'estas', '?']\n"
     ]
    }
   ],
   "source": [
    "sent2 = 'Ola, Como estas?'\n",
    "print(word_tokenize(sent2))"
   ]
  },
  {
   "cell_type": "code",
   "execution_count": 27,
   "id": "734209d1-82bf-48d2-ac21-daef943f3d16",
   "metadata": {},
   "outputs": [
    {
     "name": "stdout",
     "output_type": "stream",
     "text": [
      "[('Hello', 'NNP'), (',', ','), ('How', 'NNP'), ('are', 'VBP'), ('you', 'PRP'), ('?', '.')]\n"
     ]
    }
   ],
   "source": [
    "tokens = word_tokenize(sent)\n",
    "print(nltk.pos_tag(tokens))"
   ]
  },
  {
   "cell_type": "code",
   "execution_count": 29,
   "id": "f9fc3659-a4a7-4a7c-91ab-024e859e0ae5",
   "metadata": {},
   "outputs": [
    {
     "name": "stdout",
     "output_type": "stream",
     "text": [
      "PRP: pronoun, personal\n",
      "    hers herself him himself hisself it itself me myself one oneself ours\n",
      "    ourselves ownself self she thee theirs them themselves they thou thy us\n"
     ]
    }
   ],
   "source": [
    "nltk.help.upenn_tagset('PRP')"
   ]
  },
  {
   "cell_type": "code",
   "execution_count": 31,
   "id": "9f6bd117-6bd1-472e-9347-7f0bb75b86c2",
   "metadata": {},
   "outputs": [
    {
     "ename": "AttributeError",
     "evalue": "module 'nltk' has no attribute 'upenn_tagset'",
     "output_type": "error",
     "traceback": [
      "\u001b[1;31m---------------------------------------------------------------------------\u001b[0m",
      "\u001b[1;31mAttributeError\u001b[0m                            Traceback (most recent call last)",
      "Cell \u001b[1;32mIn[31], line 1\u001b[0m\n\u001b[1;32m----> 1\u001b[0m nltk\u001b[38;5;241m.\u001b[39mupenn_tagset(\u001b[38;5;124m'\u001b[39m\u001b[38;5;124mVBP\u001b[39m\u001b[38;5;124m'\u001b[39m)\n",
      "\u001b[1;31mAttributeError\u001b[0m: module 'nltk' has no attribute 'upenn_tagset'"
     ]
    }
   ],
   "source": [
    "nltk.upenn_tagset('VBP')"
   ]
  },
  {
   "cell_type": "code",
   "execution_count": 32,
   "id": "81afb55a-5af9-48b2-84b7-60f7ee64d514",
   "metadata": {},
   "outputs": [
    {
     "name": "stdout",
     "output_type": "stream",
     "text": [
      "{'other', 'having', 'its', 'between', 'off', 'by', 'shan', 'or', 'he', 'during', 'through', 'not', 'while', \"you're\", 'over', 'are', 'has', 'after', \"you'll\", 'had', 'all', 'is', 'hers', 'herself', 'those', 'hasn', 'very', 'was', 'should', 'down', \"hasn't\", 'on', 'ourselves', 'hadn', 'and', 'an', \"you'd\", 'in', 'doing', 'were', 'about', 'my', 'with', 'up', 'so', 'them', 't', 'if', 'him', 'be', 'some', 'she', 'll', 'into', 'that', 'how', 'but', \"that'll\", 'it', \"should've\", 'of', 'theirs', 'out', 'why', 'this', 'what', \"don't\", 'too', 'just', \"weren't\", 'further', \"she's\", 'her', 'until', 'few', 'from', 'they', 'most', 'ours', \"wouldn't\", 'y', 'than', 'didn', 'the', 'nor', 'both', 'here', 'more', 'doesn', 'aren', 'own', 'mustn', \"won't\", \"mightn't\", 'wouldn', 'haven', 'don', \"mustn't\", 'won', 'themselves', 'does', 'his', 'as', \"aren't\", \"doesn't\", 'i', 'yours', 'under', 'ain', 'a', 'when', 'needn', 'o', 'any', \"needn't\", 'am', \"hadn't\", 'will', 'then', 'can', 'same', 'before', 's', 'there', 'yourself', 'do', 'itself', 've', 'who', \"you've\", 'd', 'whom', \"shouldn't\", 'been', 'isn', \"it's\", 'which', 'once', 're', 'm', \"wasn't\", 'wasn', \"didn't\", 'have', 'shouldn', 'again', 'no', 'myself', 'me', 'you', \"couldn't\", 'ma', 'their', 'against', 'for', 'such', 'did', 'your', 'only', 'where', \"shan't\", 'at', \"haven't\", 'we', 'couldn', 'being', 'below', 'now', 'to', 'yourselves', \"isn't\", 'above', 'weren', 'himself', 'each', 'these', 'because', 'mightn', 'our'}\n"
     ]
    }
   ],
   "source": [
    "from nltk.corpus import stopwords\n",
    "stop_words = set(stopwords.words('english'))\n",
    "print(stop_words)"
   ]
  },
  {
   "cell_type": "code",
   "execution_count": 38,
   "id": "89472f49-d009-4cdf-856f-cc1002f46d2d",
   "metadata": {},
   "outputs": [
    {
     "name": "stdout",
     "output_type": "stream",
     "text": [
      "['Hello', ',', 'How', 'are', 'you', '?']\n",
      "=================================================================================\n",
      "['Hello', ',', 'How', '?']\n"
     ]
    }
   ],
   "source": [
    "filtered_sentence = [w for w in tokens if not w in stop_words]\n",
    "filtered_sentence = []\n",
    "\n",
    "for w in tokens:\n",
    "    if w not in stop_words:\n",
    "        filtered_sentence.append(w)\n",
    "\n",
    "print(tokens)\n",
    "print(\"=================================================================================\")\n",
    "print(filtered_sentence)"
   ]
  },
  {
   "cell_type": "code",
   "execution_count": null,
   "id": "56072126-9373-4a14-a9bd-420e479d2efb",
   "metadata": {},
   "outputs": [],
   "source": []
  }
 ],
 "metadata": {
  "kernelspec": {
   "display_name": "base",
   "language": "python",
   "name": "python3"
  },
  "language_info": {
   "codemirror_mode": {
    "name": "ipython",
    "version": 3
   },
   "file_extension": ".py",
   "mimetype": "text/x-python",
   "name": "python",
   "nbconvert_exporter": "python",
   "pygments_lexer": "ipython3",
   "version": "3.12.4"
  }
 },
 "nbformat": 4,
 "nbformat_minor": 5
}
